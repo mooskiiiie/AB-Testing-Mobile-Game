{
  "nbformat": 4,
  "nbformat_minor": 0,
  "metadata": {
    "colab": {
      "provenance": []
    },
    "kernelspec": {
      "name": "python3",
      "display_name": "Python 3"
    },
    "language_info": {
      "name": "python"
    }
  },
  "cells": [
    {
      "cell_type": "markdown",
      "source": [
        "## Problem Statement\n",
        "\n",
        "Reference: DataCamp mini project\n",
        "\n",
        "Tactile Entertainment is game company that developed Cookie Cats, a popular mobile puzzle game. Its a game where the player must connect tiles of the same color to clear the board and win the level.\n",
        "\n",
        "In the game, players will naturally go through different levels, wherein they will sometimes encounter gates that will force them to make an in-app purchase to progress.\n",
        "\n",
        "The problem the company is having is that they don't know where to place the gates in the game. At the start, they placed the gate at level 30, and now they're thinking of changing it to level 40 instead. With this decision, they are wary of how it will affect their player retention. In addition, they would also like to see if moving the gate further will result to players playing more rounds.\n",
        "\n",
        "\\\n",
        "### Success Metrics\n",
        "Player retention is a good indicator that players are staying even if the gate gets moved.\n",
        "\n",
        "The data includes 1 day retention and 7 day retention. We will be looking at both average retentions to see if there is a difference with the placement of the gate.\n",
        "\n",
        "Aside from this, let's also look at the average game rounds per user for both levels to be extra 😙\n",
        "\n",
        "\\\n",
        "### Hypothesis Formulation\n",
        "Null Hypothesis (Ho): The average player retention between the level 30 and level 40 gate placements are the same\n",
        "\n",
        "Alternative Hypothesis (Ha): The average player retention between the level 30 and level 40 gate placements are different\n",
        "\n",
        "For our significance level, we'll be using alpha = 0.05.\n",
        "\n",
        "Our Power level will be 0.80. This means that the probability of finding a difference when there is one is 80%"
      ],
      "metadata": {
        "id": "ZqiI6YUpyCvE"
      }
    },
    {
      "cell_type": "code",
      "execution_count": 3,
      "metadata": {
        "id": "UYKbyLBaxusQ"
      },
      "outputs": [],
      "source": [
        "import pandas as pd\n",
        "import numpy as np\n",
        "import matplotlib.pyplot as plt\n",
        "import seaborn as sns"
      ]
    },
    {
      "cell_type": "code",
      "source": [
        "df = pd.read_csv('cookie_cats.csv')\n",
        "df.head()"
      ],
      "metadata": {
        "colab": {
          "base_uri": "https://localhost:8080/",
          "height": 206
        },
        "id": "0MX5OBfo4F09",
        "outputId": "bb3cd8ef-c6b6-4792-e675-f8774f5f7bdc"
      },
      "execution_count": 17,
      "outputs": [
        {
          "output_type": "execute_result",
          "data": {
            "text/plain": [
              "   userid  version  sum_gamerounds  retention_1  retention_7\n",
              "0     116  gate_30               3        False        False\n",
              "1     337  gate_30              38         True        False\n",
              "2     377  gate_40             165         True        False\n",
              "3     483  gate_40               1        False        False\n",
              "4     488  gate_40             179         True         True"
            ],
            "text/html": [
              "\n",
              "\n",
              "  <div id=\"df-ed858b69-acee-4bbb-ad24-a649587ef1f2\">\n",
              "    <div class=\"colab-df-container\">\n",
              "      <div>\n",
              "<style scoped>\n",
              "    .dataframe tbody tr th:only-of-type {\n",
              "        vertical-align: middle;\n",
              "    }\n",
              "\n",
              "    .dataframe tbody tr th {\n",
              "        vertical-align: top;\n",
              "    }\n",
              "\n",
              "    .dataframe thead th {\n",
              "        text-align: right;\n",
              "    }\n",
              "</style>\n",
              "<table border=\"1\" class=\"dataframe\">\n",
              "  <thead>\n",
              "    <tr style=\"text-align: right;\">\n",
              "      <th></th>\n",
              "      <th>userid</th>\n",
              "      <th>version</th>\n",
              "      <th>sum_gamerounds</th>\n",
              "      <th>retention_1</th>\n",
              "      <th>retention_7</th>\n",
              "    </tr>\n",
              "  </thead>\n",
              "  <tbody>\n",
              "    <tr>\n",
              "      <th>0</th>\n",
              "      <td>116</td>\n",
              "      <td>gate_30</td>\n",
              "      <td>3</td>\n",
              "      <td>False</td>\n",
              "      <td>False</td>\n",
              "    </tr>\n",
              "    <tr>\n",
              "      <th>1</th>\n",
              "      <td>337</td>\n",
              "      <td>gate_30</td>\n",
              "      <td>38</td>\n",
              "      <td>True</td>\n",
              "      <td>False</td>\n",
              "    </tr>\n",
              "    <tr>\n",
              "      <th>2</th>\n",
              "      <td>377</td>\n",
              "      <td>gate_40</td>\n",
              "      <td>165</td>\n",
              "      <td>True</td>\n",
              "      <td>False</td>\n",
              "    </tr>\n",
              "    <tr>\n",
              "      <th>3</th>\n",
              "      <td>483</td>\n",
              "      <td>gate_40</td>\n",
              "      <td>1</td>\n",
              "      <td>False</td>\n",
              "      <td>False</td>\n",
              "    </tr>\n",
              "    <tr>\n",
              "      <th>4</th>\n",
              "      <td>488</td>\n",
              "      <td>gate_40</td>\n",
              "      <td>179</td>\n",
              "      <td>True</td>\n",
              "      <td>True</td>\n",
              "    </tr>\n",
              "  </tbody>\n",
              "</table>\n",
              "</div>\n",
              "      <button class=\"colab-df-convert\" onclick=\"convertToInteractive('df-ed858b69-acee-4bbb-ad24-a649587ef1f2')\"\n",
              "              title=\"Convert this dataframe to an interactive table.\"\n",
              "              style=\"display:none;\">\n",
              "\n",
              "  <svg xmlns=\"http://www.w3.org/2000/svg\" height=\"24px\"viewBox=\"0 0 24 24\"\n",
              "       width=\"24px\">\n",
              "    <path d=\"M0 0h24v24H0V0z\" fill=\"none\"/>\n",
              "    <path d=\"M18.56 5.44l.94 2.06.94-2.06 2.06-.94-2.06-.94-.94-2.06-.94 2.06-2.06.94zm-11 1L8.5 8.5l.94-2.06 2.06-.94-2.06-.94L8.5 2.5l-.94 2.06-2.06.94zm10 10l.94 2.06.94-2.06 2.06-.94-2.06-.94-.94-2.06-.94 2.06-2.06.94z\"/><path d=\"M17.41 7.96l-1.37-1.37c-.4-.4-.92-.59-1.43-.59-.52 0-1.04.2-1.43.59L10.3 9.45l-7.72 7.72c-.78.78-.78 2.05 0 2.83L4 21.41c.39.39.9.59 1.41.59.51 0 1.02-.2 1.41-.59l7.78-7.78 2.81-2.81c.8-.78.8-2.07 0-2.86zM5.41 20L4 18.59l7.72-7.72 1.47 1.35L5.41 20z\"/>\n",
              "  </svg>\n",
              "      </button>\n",
              "\n",
              "\n",
              "\n",
              "    <div id=\"df-3e3d3746-dcad-42d5-a486-0a46f596ec79\">\n",
              "      <button class=\"colab-df-quickchart\" onclick=\"quickchart('df-3e3d3746-dcad-42d5-a486-0a46f596ec79')\"\n",
              "              title=\"Suggest charts.\"\n",
              "              style=\"display:none;\">\n",
              "\n",
              "<svg xmlns=\"http://www.w3.org/2000/svg\" height=\"24px\"viewBox=\"0 0 24 24\"\n",
              "     width=\"24px\">\n",
              "    <g>\n",
              "        <path d=\"M19 3H5c-1.1 0-2 .9-2 2v14c0 1.1.9 2 2 2h14c1.1 0 2-.9 2-2V5c0-1.1-.9-2-2-2zM9 17H7v-7h2v7zm4 0h-2V7h2v10zm4 0h-2v-4h2v4z\"/>\n",
              "    </g>\n",
              "</svg>\n",
              "      </button>\n",
              "    </div>\n",
              "\n",
              "<style>\n",
              "  .colab-df-quickchart {\n",
              "    background-color: #E8F0FE;\n",
              "    border: none;\n",
              "    border-radius: 50%;\n",
              "    cursor: pointer;\n",
              "    display: none;\n",
              "    fill: #1967D2;\n",
              "    height: 32px;\n",
              "    padding: 0 0 0 0;\n",
              "    width: 32px;\n",
              "  }\n",
              "\n",
              "  .colab-df-quickchart:hover {\n",
              "    background-color: #E2EBFA;\n",
              "    box-shadow: 0px 1px 2px rgba(60, 64, 67, 0.3), 0px 1px 3px 1px rgba(60, 64, 67, 0.15);\n",
              "    fill: #174EA6;\n",
              "  }\n",
              "\n",
              "  [theme=dark] .colab-df-quickchart {\n",
              "    background-color: #3B4455;\n",
              "    fill: #D2E3FC;\n",
              "  }\n",
              "\n",
              "  [theme=dark] .colab-df-quickchart:hover {\n",
              "    background-color: #434B5C;\n",
              "    box-shadow: 0px 1px 3px 1px rgba(0, 0, 0, 0.15);\n",
              "    filter: drop-shadow(0px 1px 2px rgba(0, 0, 0, 0.3));\n",
              "    fill: #FFFFFF;\n",
              "  }\n",
              "</style>\n",
              "\n",
              "    <script>\n",
              "      async function quickchart(key) {\n",
              "        const containerElement = document.querySelector('#' + key);\n",
              "        const charts = await google.colab.kernel.invokeFunction(\n",
              "            'suggestCharts', [key], {});\n",
              "      }\n",
              "    </script>\n",
              "\n",
              "      <script>\n",
              "\n",
              "function displayQuickchartButton(domScope) {\n",
              "  let quickchartButtonEl =\n",
              "    domScope.querySelector('#df-3e3d3746-dcad-42d5-a486-0a46f596ec79 button.colab-df-quickchart');\n",
              "  quickchartButtonEl.style.display =\n",
              "    google.colab.kernel.accessAllowed ? 'block' : 'none';\n",
              "}\n",
              "\n",
              "        displayQuickchartButton(document);\n",
              "      </script>\n",
              "      <style>\n",
              "    .colab-df-container {\n",
              "      display:flex;\n",
              "      flex-wrap:wrap;\n",
              "      gap: 12px;\n",
              "    }\n",
              "\n",
              "    .colab-df-convert {\n",
              "      background-color: #E8F0FE;\n",
              "      border: none;\n",
              "      border-radius: 50%;\n",
              "      cursor: pointer;\n",
              "      display: none;\n",
              "      fill: #1967D2;\n",
              "      height: 32px;\n",
              "      padding: 0 0 0 0;\n",
              "      width: 32px;\n",
              "    }\n",
              "\n",
              "    .colab-df-convert:hover {\n",
              "      background-color: #E2EBFA;\n",
              "      box-shadow: 0px 1px 2px rgba(60, 64, 67, 0.3), 0px 1px 3px 1px rgba(60, 64, 67, 0.15);\n",
              "      fill: #174EA6;\n",
              "    }\n",
              "\n",
              "    [theme=dark] .colab-df-convert {\n",
              "      background-color: #3B4455;\n",
              "      fill: #D2E3FC;\n",
              "    }\n",
              "\n",
              "    [theme=dark] .colab-df-convert:hover {\n",
              "      background-color: #434B5C;\n",
              "      box-shadow: 0px 1px 3px 1px rgba(0, 0, 0, 0.15);\n",
              "      filter: drop-shadow(0px 1px 2px rgba(0, 0, 0, 0.3));\n",
              "      fill: #FFFFFF;\n",
              "    }\n",
              "  </style>\n",
              "\n",
              "      <script>\n",
              "        const buttonEl =\n",
              "          document.querySelector('#df-ed858b69-acee-4bbb-ad24-a649587ef1f2 button.colab-df-convert');\n",
              "        buttonEl.style.display =\n",
              "          google.colab.kernel.accessAllowed ? 'block' : 'none';\n",
              "\n",
              "        async function convertToInteractive(key) {\n",
              "          const element = document.querySelector('#df-ed858b69-acee-4bbb-ad24-a649587ef1f2');\n",
              "          const dataTable =\n",
              "            await google.colab.kernel.invokeFunction('convertToInteractive',\n",
              "                                                     [key], {});\n",
              "          if (!dataTable) return;\n",
              "\n",
              "          const docLinkHtml = 'Like what you see? Visit the ' +\n",
              "            '<a target=\"_blank\" href=https://colab.research.google.com/notebooks/data_table.ipynb>data table notebook</a>'\n",
              "            + ' to learn more about interactive tables.';\n",
              "          element.innerHTML = '';\n",
              "          dataTable['output_type'] = 'display_data';\n",
              "          await google.colab.output.renderOutput(dataTable, element);\n",
              "          const docLink = document.createElement('div');\n",
              "          docLink.innerHTML = docLinkHtml;\n",
              "          element.appendChild(docLink);\n",
              "        }\n",
              "      </script>\n",
              "    </div>\n",
              "  </div>\n"
            ]
          },
          "metadata": {},
          "execution_count": 17
        }
      ]
    },
    {
      "cell_type": "code",
      "source": [
        "df.shape"
      ],
      "metadata": {
        "colab": {
          "base_uri": "https://localhost:8080/"
        },
        "id": "QDRy_f2t4OMA",
        "outputId": "27ef3220-fde0-47b2-ee51-d9df266f30c4"
      },
      "execution_count": 18,
      "outputs": [
        {
          "output_type": "execute_result",
          "data": {
            "text/plain": [
              "(90189, 5)"
            ]
          },
          "metadata": {},
          "execution_count": 18
        }
      ]
    },
    {
      "cell_type": "markdown",
      "source": [
        "So we have data from 90,189 players that were part of the experiment.\n",
        "\n",
        "- userid - refers to the id of the user\n",
        "- version - gate_30 is the control group and gate_40 is the treatment group\n",
        "- sum_gamerounds - the number of rounds that player has played throughout the experiment\n",
        "- retention_1 - did the player come back and play 1 day after installing\n",
        "- retention_7 - did the player come back and play 7 days after installing"
      ],
      "metadata": {
        "id": "TJErx5FK4Lxy"
      }
    },
    {
      "cell_type": "markdown",
      "source": [
        "### Validity Check (EDA)\n",
        "Before we go ahead and test our hypothesis, let's first do some background check on our data to help inform us what kind of statistical test we might need. And who knows, we might find something juicy!\n",
        "\n",
        "\n",
        "\\\n",
        "Let's first check if there are any missing values"
      ],
      "metadata": {
        "id": "qQ9tw3ZW5GUz"
      }
    },
    {
      "cell_type": "code",
      "source": [
        "df.isna().sum()"
      ],
      "metadata": {
        "colab": {
          "base_uri": "https://localhost:8080/"
        },
        "id": "dCqtKbco4KTP",
        "outputId": "310aaa71-a48c-44b6-c843-ad9673f539b0"
      },
      "execution_count": 19,
      "outputs": [
        {
          "output_type": "execute_result",
          "data": {
            "text/plain": [
              "userid            0\n",
              "version           0\n",
              "sum_gamerounds    0\n",
              "retention_1       0\n",
              "retention_7       0\n",
              "dtype: int64"
            ]
          },
          "metadata": {},
          "execution_count": 19
        }
      ]
    },
    {
      "cell_type": "markdown",
      "source": [
        "Great! No missing values\n",
        "\n",
        "Now let's check the distribution of both our groups if there is normality"
      ],
      "metadata": {
        "id": "PqwnhYSJ9Wlz"
      }
    },
    {
      "cell_type": "code",
      "source": [
        "df['version'].value_counts()"
      ],
      "metadata": {
        "colab": {
          "base_uri": "https://localhost:8080/"
        },
        "id": "_uc279GL8Jth",
        "outputId": "fedee30a-de93-418e-d84b-9271a34ec216"
      },
      "execution_count": 20,
      "outputs": [
        {
          "output_type": "execute_result",
          "data": {
            "text/plain": [
              "gate_40    45489\n",
              "gate_30    44700\n",
              "Name: version, dtype: int64"
            ]
          },
          "metadata": {},
          "execution_count": 20
        }
      ]
    },
    {
      "cell_type": "code",
      "source": [
        "df['version'].value_counts().plot(kind='bar', color=['skyblue', 'salmon'])"
      ],
      "metadata": {
        "colab": {
          "base_uri": "https://localhost:8080/",
          "height": 489
        },
        "id": "zi_5QbC_83wL",
        "outputId": "90884444-c200-4405-9c36-7b159890a47e"
      },
      "execution_count": 21,
      "outputs": [
        {
          "output_type": "execute_result",
          "data": {
            "text/plain": [
              "<Axes: >"
            ]
          },
          "metadata": {},
          "execution_count": 21
        },
        {
          "output_type": "display_data",
          "data": {
            "text/plain": [
              "<Figure size 640x480 with 1 Axes>"
            ],
            "image/png": "[encoded data removed]"
          },
          "metadata": {}
        }
      ]
    },
    {
      "cell_type": "markdown",
      "source": [
        "It seems that we have an approximately even distribution with both our groups. Nice!\n",
        "\n",
        "\\\n",
        "Now let's find out if there's any outlier in our dataset that may potentially affect our testing. Since 'sum_gamerounds' is our only numerical variable, we'll focus on that one"
      ],
      "metadata": {
        "id": "OHGTOKW999eY"
      }
    },
    {
      "cell_type": "code",
      "source": [
        "df.boxplot('sum_gamerounds')"
      ],
      "metadata": {
        "colab": {
          "base_uri": "https://localhost:8080/",
          "height": 447
        },
        "id": "1WH0SeHE--7o",
        "outputId": "b87e3796-2372-465e-d3b6-0795871ed277"
      },
      "execution_count": 22,
      "outputs": [
        {
          "output_type": "execute_result",
          "data": {
            "text/plain": [
              "<Axes: >"
            ]
          },
          "metadata": {},
          "execution_count": 22
        },
        {
          "output_type": "display_data",
          "data": {
            "text/plain": [
              "<Figure size 640x480 with 1 Axes>"
            ],
            "image/png": "[encoded data removed]"
          },
          "metadata": {}
        }
      ]
    },
    {
      "cell_type": "markdown",
      "source": [
        "By the looks of our boxplot, we have a lot of outliers in the data. We even have a very interesting outlier where that certain player played around 50,000 gamerounds! Talk about dedication."
      ],
      "metadata": {
        "id": "foasa_CRAEqk"
      }
    },
    {
      "cell_type": "code",
      "source": [
        "df['sum_gamerounds'].describe()"
      ],
      "metadata": {
        "colab": {
          "base_uri": "https://localhost:8080/"
        },
        "id": "CqJp9P7mAZ5F",
        "outputId": "de5370d6-c0b5-4fed-fc74-17b07c57943b"
      },
      "execution_count": 23,
      "outputs": [
        {
          "output_type": "execute_result",
          "data": {
            "text/plain": [
              "count    90189.000000\n",
              "mean        51.872457\n",
              "std        195.050858\n",
              "min          0.000000\n",
              "25%          5.000000\n",
              "50%         16.000000\n",
              "75%         51.000000\n",
              "max      49854.000000\n",
              "Name: sum_gamerounds, dtype: float64"
            ]
          },
          "metadata": {},
          "execution_count": 23
        }
      ]
    },
    {
      "cell_type": "markdown",
      "source": [
        "By looking at summary statistics, there is indeed a player that played around 50,000 rounds. Sheesh! We can also notice that we have a high standard deviation score of 195. This means that most of our data is about 195 units away from the mean. Basically, our data has great variance or its dispersed.\n",
        "\n",
        "We can also take this opportunity to look at the quantiles. There is a player that installed the game, but didn't even played a single round 😢.\n",
        "- 25% of players only played about 5 rounds\n",
        "- 50% of players only played about 16 rounds, not even reaching the 30th level gate!\n",
        "- 75% of players played about 51 rounds.\n",
        "\n",
        "Let's check if there are other players that also didn't play a single round"
      ],
      "metadata": {
        "id": "Mei2S-6wAkvg"
      }
    },
    {
      "cell_type": "code",
      "source": [
        "df[df['sum_gamerounds']==0].count()"
      ],
      "metadata": {
        "colab": {
          "base_uri": "https://localhost:8080/"
        },
        "id": "dWFdti6tCccr",
        "outputId": "0b5be601-b777-466c-ece7-9661c93231e3"
      },
      "execution_count": 24,
      "outputs": [
        {
          "output_type": "execute_result",
          "data": {
            "text/plain": [
              "userid            3994\n",
              "version           3994\n",
              "sum_gamerounds    3994\n",
              "retention_1       3994\n",
              "retention_7       3994\n",
              "dtype: int64"
            ]
          },
          "metadata": {},
          "execution_count": 24
        }
      ]
    },
    {
      "cell_type": "markdown",
      "source": [
        "Almost 4,000 players installed the game, but didn't even played a single round. It's very interesting to know what drives the player to stop playing even without experiencing the gameplay first.\n",
        "- Perhaps they didnt like the interface?\n",
        "- Or maybe they just haven't started playing yet\n",
        "\n",
        "Whatever the reason is for these players, it would be beneficial to know the reason behind it.\n",
        "\n",
        "Now let's take a look at the 25% percentile. These are players that played about 5 rounds since installation"
      ],
      "metadata": {
        "id": "YBgUlR-fC8EF"
      }
    },
    {
      "cell_type": "code",
      "source": [
        "df[(df['sum_gamerounds'] <= 5) & (df['sum_gamerounds'] != 0)]"
      ],
      "metadata": {
        "colab": {
          "base_uri": "https://localhost:8080/",
          "height": 423
        },
        "id": "9c2gKPpTDthK",
        "outputId": "a125a8e2-f4a3-49b6-f2dd-89cddd58a130"
      },
      "execution_count": 25,
      "outputs": [
        {
          "output_type": "execute_result",
          "data": {
            "text/plain": [
              "        userid  version  sum_gamerounds  retention_1  retention_7\n",
              "0          116  gate_30               3        False        False\n",
              "3          483  gate_40               1        False        False\n",
              "7         1444  gate_40               2        False        False\n",
              "10        1842  gate_40               3        False         True\n",
              "19        2502  gate_40               1        False        False\n",
              "...        ...      ...             ...          ...          ...\n",
              "90161  9996426  gate_30               5         True        False\n",
              "90162  9996480  gate_40               4        False        False\n",
              "90166  9996999  gate_30               3        False        False\n",
              "90169  9997628  gate_40               3        False        False\n",
              "90174  9997928  gate_30               2        False        False\n",
              "\n",
              "[20723 rows x 5 columns]"
            ],
            "text/html": [
              "\n",
              "\n",
              "  <div id=\"df-91b695f1-e3a6-44f1-9947-d499954849fe\">\n",
              "    <div class=\"colab-df-container\">\n",
              "      <div>\n",
              "<style scoped>\n",
              "    .dataframe tbody tr th:only-of-type {\n",
              "        vertical-align: middle;\n",
              "    }\n",
              "\n",
              "    .dataframe tbody tr th {\n",
              "        vertical-align: top;\n",
              "    }\n",
              "\n",
              "    .dataframe thead th {\n",
              "        text-align: right;\n",
              "    }\n",
              "</style>\n",
              "<table border=\"1\" class=\"dataframe\">\n",
              "  <thead>\n",
              "    <tr style=\"text-align: right;\">\n",
              "      <th></th>\n",
              "      <th>userid</th>\n",
              "      <th>version</th>\n",
              "      <th>sum_gamerounds</th>\n",
              "      <th>retention_1</th>\n",
              "      <th>retention_7</th>\n",
              "    </tr>\n",
              "  </thead>\n",
              "  <tbody>\n",
              "    <tr>\n",
              "      <th>0</th>\n",
              "      <td>116</td>\n",
              "      <td>gate_30</td>\n",
              "      <td>3</td>\n",
              "      <td>False</td>\n",
              "      <td>False</td>\n",
              "    </tr>\n",
              "    <tr>\n",
              "      <th>3</th>\n",
              "      <td>483</td>\n",
              "      <td>gate_40</td>\n",
              "      <td>1</td>\n",
              "      <td>False</td>\n",
              "      <td>False</td>\n",
              "    </tr>\n",
              "    <tr>\n",
              "      <th>7</th>\n",
              "      <td>1444</td>\n",
              "      <td>gate_40</td>\n",
              "      <td>2</td>\n",
              "      <td>False</td>\n",
              "      <td>False</td>\n",
              "    </tr>\n",
              "    <tr>\n",
              "      <th>10</th>\n",
              "      <td>1842</td>\n",
              "      <td>gate_40</td>\n",
              "      <td>3</td>\n",
              "      <td>False</td>\n",
              "      <td>True</td>\n",
              "    </tr>\n",
              "    <tr>\n",
              "      <th>19</th>\n",
              "      <td>2502</td>\n",
              "      <td>gate_40</td>\n",
              "      <td>1</td>\n",
              "      <td>False</td>\n",
              "      <td>False</td>\n",
              "    </tr>\n",
              "    <tr>\n",
              "      <th>...</th>\n",
              "      <td>...</td>\n",
              "      <td>...</td>\n",
              "      <td>...</td>\n",
              "      <td>...</td>\n",
              "      <td>...</td>\n",
              "    </tr>\n",
              "    <tr>\n",
              "      <th>90161</th>\n",
              "      <td>9996426</td>\n",
              "      <td>gate_30</td>\n",
              "      <td>5</td>\n",
              "      <td>True</td>\n",
              "      <td>False</td>\n",
              "    </tr>\n",
              "    <tr>\n",
              "      <th>90162</th>\n",
              "      <td>9996480</td>\n",
              "      <td>gate_40</td>\n",
              "      <td>4</td>\n",
              "      <td>False</td>\n",
              "      <td>False</td>\n",
              "    </tr>\n",
              "    <tr>\n",
              "      <th>90166</th>\n",
              "      <td>9996999</td>\n",
              "      <td>gate_30</td>\n",
              "      <td>3</td>\n",
              "      <td>False</td>\n",
              "      <td>False</td>\n",
              "    </tr>\n",
              "    <tr>\n",
              "      <th>90169</th>\n",
              "      <td>9997628</td>\n",
              "      <td>gate_40</td>\n",
              "      <td>3</td>\n",
              "      <td>False</td>\n",
              "      <td>False</td>\n",
              "    </tr>\n",
              "    <tr>\n",
              "      <th>90174</th>\n",
              "      <td>9997928</td>\n",
              "      <td>gate_30</td>\n",
              "      <td>2</td>\n",
              "      <td>False</td>\n",
              "      <td>False</td>\n",
              "    </tr>\n",
              "  </tbody>\n",
              "</table>\n",
              "<p>20723 rows × 5 columns</p>\n",
              "</div>\n",
              "      <button class=\"colab-df-convert\" onclick=\"convertToInteractive('df-91b695f1-e3a6-44f1-9947-d499954849fe')\"\n",
              "              title=\"Convert this dataframe to an interactive table.\"\n",
              "              style=\"display:none;\">\n",
              "\n",
              "  <svg xmlns=\"http://www.w3.org/2000/svg\" height=\"24px\"viewBox=\"0 0 24 24\"\n",
              "       width=\"24px\">\n",
              "    <path d=\"M0 0h24v24H0V0z\" fill=\"none\"/>\n",
              "    <path d=\"M18.56 5.44l.94 2.06.94-2.06 2.06-.94-2.06-.94-.94-2.06-.94 2.06-2.06.94zm-11 1L8.5 8.5l.94-2.06 2.06-.94-2.06-.94L8.5 2.5l-.94 2.06-2.06.94zm10 10l.94 2.06.94-2.06 2.06-.94-2.06-.94-.94-2.06-.94 2.06-2.06.94z\"/><path d=\"M17.41 7.96l-1.37-1.37c-.4-.4-.92-.59-1.43-.59-.52 0-1.04.2-1.43.59L10.3 9.45l-7.72 7.72c-.78.78-.78 2.05 0 2.83L4 21.41c.39.39.9.59 1.41.59.51 0 1.02-.2 1.41-.59l7.78-7.78 2.81-2.81c.8-.78.8-2.07 0-2.86zM5.41 20L4 18.59l7.72-7.72 1.47 1.35L5.41 20z\"/>\n",
              "  </svg>\n",
              "      </button>\n",
              "\n",
              "\n",
              "\n",
              "    <div id=\"df-67719a7a-fa68-4ae4-a1d4-2e4f7b54bae5\">\n",
              "      <button class=\"colab-df-quickchart\" onclick=\"quickchart('df-67719a7a-fa68-4ae4-a1d4-2e4f7b54bae5')\"\n",
              "              title=\"Suggest charts.\"\n",
              "              style=\"display:none;\">\n",
              "\n",
              "<svg xmlns=\"http://www.w3.org/2000/svg\" height=\"24px\"viewBox=\"0 0 24 24\"\n",
              "     width=\"24px\">\n",
              "    <g>\n",
              "        <path d=\"M19 3H5c-1.1 0-2 .9-2 2v14c0 1.1.9 2 2 2h14c1.1 0 2-.9 2-2V5c0-1.1-.9-2-2-2zM9 17H7v-7h2v7zm4 0h-2V7h2v10zm4 0h-2v-4h2v4z\"/>\n",
              "    </g>\n",
              "</svg>\n",
              "      </button>\n",
              "    </div>\n",
              "\n",
              "<style>\n",
              "  .colab-df-quickchart {\n",
              "    background-color: #E8F0FE;\n",
              "    border: none;\n",
              "    border-radius: 50%;\n",
              "    cursor: pointer;\n",
              "    display: none;\n",
              "    fill: #1967D2;\n",
              "    height: 32px;\n",
              "    padding: 0 0 0 0;\n",
              "    width: 32px;\n",
              "  }\n",
              "\n",
              "  .colab-df-quickchart:hover {\n",
              "    background-color: #E2EBFA;\n",
              "    box-shadow: 0px 1px 2px rgba(60, 64, 67, 0.3), 0px 1px 3px 1px rgba(60, 64, 67, 0.15);\n",
              "    fill: #174EA6;\n",
              "  }\n",
              "\n",
              "  [theme=dark] .colab-df-quickchart {\n",
              "    background-color: #3B4455;\n",
              "    fill: #D2E3FC;\n",
              "  }\n",
              "\n",
              "  [theme=dark] .colab-df-quickchart:hover {\n",
              "    background-color: #434B5C;\n",
              "    box-shadow: 0px 1px 3px 1px rgba(0, 0, 0, 0.15);\n",
              "    filter: drop-shadow(0px 1px 2px rgba(0, 0, 0, 0.3));\n",
              "    fill: #FFFFFF;\n",
              "  }\n",
              "</style>\n",
              "\n",
              "    <script>\n",
              "      async function quickchart(key) {\n",
              "        const containerElement = document.querySelector('#' + key);\n",
              "        const charts = await google.colab.kernel.invokeFunction(\n",
              "            'suggestCharts', [key], {});\n",
              "      }\n",
              "    </script>\n",
              "\n",
              "      <script>\n",
              "\n",
              "function displayQuickchartButton(domScope) {\n",
              "  let quickchartButtonEl =\n",
              "    domScope.querySelector('#df-67719a7a-fa68-4ae4-a1d4-2e4f7b54bae5 button.colab-df-quickchart');\n",
              "  quickchartButtonEl.style.display =\n",
              "    google.colab.kernel.accessAllowed ? 'block' : 'none';\n",
              "}\n",
              "\n",
              "        displayQuickchartButton(document);\n",
              "      </script>\n",
              "      <style>\n",
              "    .colab-df-container {\n",
              "      display:flex;\n",
              "      flex-wrap:wrap;\n",
              "      gap: 12px;\n",
              "    }\n",
              "\n",
              "    .colab-df-convert {\n",
              "      background-color: #E8F0FE;\n",
              "      border: none;\n",
              "      border-radius: 50%;\n",
              "      cursor: pointer;\n",
              "      display: none;\n",
              "      fill: #1967D2;\n",
              "      height: 32px;\n",
              "      padding: 0 0 0 0;\n",
              "      width: 32px;\n",
              "    }\n",
              "\n",
              "    .colab-df-convert:hover {\n",
              "      background-color: #E2EBFA;\n",
              "      box-shadow: 0px 1px 2px rgba(60, 64, 67, 0.3), 0px 1px 3px 1px rgba(60, 64, 67, 0.15);\n",
              "      fill: #174EA6;\n",
              "    }\n",
              "\n",
              "    [theme=dark] .colab-df-convert {\n",
              "      background-color: #3B4455;\n",
              "      fill: #D2E3FC;\n",
              "    }\n",
              "\n",
              "    [theme=dark] .colab-df-convert:hover {\n",
              "      background-color: #434B5C;\n",
              "      box-shadow: 0px 1px 3px 1px rgba(0, 0, 0, 0.15);\n",
              "      filter: drop-shadow(0px 1px 2px rgba(0, 0, 0, 0.3));\n",
              "      fill: #FFFFFF;\n",
              "    }\n",
              "  </style>\n",
              "\n",
              "      <script>\n",
              "        const buttonEl =\n",
              "          document.querySelector('#df-91b695f1-e3a6-44f1-9947-d499954849fe button.colab-df-convert');\n",
              "        buttonEl.style.display =\n",
              "          google.colab.kernel.accessAllowed ? 'block' : 'none';\n",
              "\n",
              "        async function convertToInteractive(key) {\n",
              "          const element = document.querySelector('#df-91b695f1-e3a6-44f1-9947-d499954849fe');\n",
              "          const dataTable =\n",
              "            await google.colab.kernel.invokeFunction('convertToInteractive',\n",
              "                                                     [key], {});\n",
              "          if (!dataTable) return;\n",
              "\n",
              "          const docLinkHtml = 'Like what you see? Visit the ' +\n",
              "            '<a target=\"_blank\" href=https://colab.research.google.com/notebooks/data_table.ipynb>data table notebook</a>'\n",
              "            + ' to learn more about interactive tables.';\n",
              "          element.innerHTML = '';\n",
              "          dataTable['output_type'] = 'display_data';\n",
              "          await google.colab.output.renderOutput(dataTable, element);\n",
              "          const docLink = document.createElement('div');\n",
              "          docLink.innerHTML = docLinkHtml;\n",
              "          element.appendChild(docLink);\n",
              "        }\n",
              "      </script>\n",
              "    </div>\n",
              "  </div>\n"
            ]
          },
          "metadata": {},
          "execution_count": 25
        }
      ]
    },
    {
      "cell_type": "markdown",
      "source": [
        "More than 20,000 players played fewer than 6 rounds since installation. The motivations behind these numbers are different with those that had 0 game rounds.\n",
        "- Maybe they got bored after playing 1-2 rounds\n",
        "- They found another game\n",
        "- They didn't like the gameplay\n",
        "\n",
        "It would be very beneficial to find out why these players stopped playing the game very early on. This could help us with retaining our player base\n",
        "\n",
        "\n",
        "\\\n",
        "Remember the boxplot earlier? While we already know that there are a lot of outliers based on the graph, it's quite hard to determine the exact number of outliers and which one they are. So, let's make use of scipy package and calculate the z-scores of each row"
      ],
      "metadata": {
        "id": "TQPfyWJQEVcT"
      }
    },
    {
      "cell_type": "code",
      "source": [
        "from scipy import stats\n",
        "\n",
        "z_scores = stats.zscore(df['sum_gamerounds'])\n",
        "outliers = df[abs(z_scores) > 3]\n",
        "print(outliers)"
      ],
      "metadata": {
        "colab": {
          "base_uri": "https://localhost:8080/"
        },
        "id": "p2-GaGTi_hXt",
        "outputId": "ef05968d-3a52-4974-b764-ea47c4ac7713"
      },
      "execution_count": 26,
      "outputs": [
        {
          "output_type": "stream",
          "name": "stdout",
          "text": [
            "        userid  version  sum_gamerounds  retention_1  retention_7\n",
            "601      63617  gate_30             902         True         True\n",
            "655      69927  gate_30            1906         True         True\n",
            "865      97308  gate_30             798         True         True\n",
            "1097    121303  gate_30            1374         True         True\n",
            "1264    139072  gate_40             681        False         True\n",
            "...        ...      ...             ...          ...          ...\n",
            "88328  9791599  gate_40            2063         True         True\n",
            "88354  9794383  gate_40             846         True         True\n",
            "88590  9822327  gate_40             768         True         True\n",
            "89719  9949589  gate_40             708         True         True\n",
            "89921  9971042  gate_30             892         True         True\n",
            "\n",
            "[425 rows x 5 columns]\n"
          ]
        }
      ]
    },
    {
      "cell_type": "markdown",
      "source": [
        "So according to the z-score method, we have about 425 rows of outliers. The question is, what do we do with them? Do we remove them completely? It's difficult to determine whether these were bugs, malfunctions, etc.\n",
        "\n",
        "Personally, I wouldn't remove these outliers because we're gonna lose a lot of information on the behavior of these players if we simply get rid of them. Also, some of these outliers do practically make sense as a gamer myself. There will always be players who are in it for the grind!"
      ],
      "metadata": {
        "id": "2-hcCkDVFPBf"
      }
    },
    {
      "cell_type": "markdown",
      "source": [
        "## Results of the experiment\n",
        "\n",
        "Now that we've done our EDA and some player behavior analysis, let's now take a look at the results of our experiment. Let's start with 1-day retention."
      ],
      "metadata": {
        "id": "aGFbekpbG1PE"
      }
    },
    {
      "cell_type": "code",
      "source": [
        "player_retention = df.groupby('version')['retention_1']\n",
        "\n",
        "std_p = lambda x: np.std(x, ddof=0)              # Std. deviation of the proportion\n",
        "se_p = lambda x: stats.sem(x, ddof=0)            # Std. error of the proportion (std / sqrt(n))\n",
        "\n",
        "player_retention = player_retention.agg([np.mean, std_p, se_p])\n",
        "player_retention.columns = ['player_retention', 'std_deviation', 'std_error']\n",
        "\n",
        "\n",
        "player_retention.style.format('{:.3f}')"
      ],
      "metadata": {
        "colab": {
          "base_uri": "https://localhost:8080/",
          "height": 143
        },
        "id": "97MK682v_7HE",
        "outputId": "496e2f1f-b4a1-410d-8308-38f4687fecc2"
      },
      "execution_count": 27,
      "outputs": [
        {
          "output_type": "execute_result",
          "data": {
            "text/plain": [
              "<pandas.io.formats.style.Styler at 0x7afb0f253a90>"
            ],
            "text/html": [
              "<style type=\"text/css\">\n",
              "</style>\n",
              "<table id=\"T_df39f\" class=\"dataframe\">\n",
              "  <thead>\n",
              "    <tr>\n",
              "      <th class=\"blank level0\" >&nbsp;</th>\n",
              "      <th id=\"T_df39f_level0_col0\" class=\"col_heading level0 col0\" >player_retention</th>\n",
              "      <th id=\"T_df39f_level0_col1\" class=\"col_heading level0 col1\" >std_deviation</th>\n",
              "      <th id=\"T_df39f_level0_col2\" class=\"col_heading level0 col2\" >std_error</th>\n",
              "    </tr>\n",
              "    <tr>\n",
              "      <th class=\"index_name level0\" >version</th>\n",
              "      <th class=\"blank col0\" >&nbsp;</th>\n",
              "      <th class=\"blank col1\" >&nbsp;</th>\n",
              "      <th class=\"blank col2\" >&nbsp;</th>\n",
              "    </tr>\n",
              "  </thead>\n",
              "  <tbody>\n",
              "    <tr>\n",
              "      <th id=\"T_df39f_level0_row0\" class=\"row_heading level0 row0\" >gate_30</th>\n",
              "      <td id=\"T_df39f_row0_col0\" class=\"data row0 col0\" >0.448</td>\n",
              "      <td id=\"T_df39f_row0_col1\" class=\"data row0 col1\" >0.497</td>\n",
              "      <td id=\"T_df39f_row0_col2\" class=\"data row0 col2\" >0.002</td>\n",
              "    </tr>\n",
              "    <tr>\n",
              "      <th id=\"T_df39f_level0_row1\" class=\"row_heading level0 row1\" >gate_40</th>\n",
              "      <td id=\"T_df39f_row1_col0\" class=\"data row1 col0\" >0.442</td>\n",
              "      <td id=\"T_df39f_row1_col1\" class=\"data row1 col1\" >0.497</td>\n",
              "      <td id=\"T_df39f_row1_col2\" class=\"data row1 col2\" >0.002</td>\n",
              "    </tr>\n",
              "  </tbody>\n",
              "</table>\n"
            ]
          },
          "metadata": {},
          "execution_count": 27
        }
      ]
    },
    {
      "cell_type": "code",
      "source": [
        "plt.figure(figsize=(8,6))\n",
        "\n",
        "sns.barplot(x=df['version'], y=df['retention_1'], ci=False)\n",
        "\n",
        "plt.title('1-day Retention Rate by Version', pad=20)\n",
        "plt.xlabel('Version', labelpad=15)\n",
        "plt.ylabel('Retained (proportion)', labelpad=15)"
      ],
      "metadata": {
        "colab": {
          "base_uri": "https://localhost:8080/",
          "height": 703
        },
        "id": "TnD45zRaHzSy",
        "outputId": "0309ba26-760b-4dfc-ca24-b7314f36e1c2"
      },
      "execution_count": 28,
      "outputs": [
        {
          "output_type": "stream",
          "name": "stderr",
          "text": [
            "<ipython-input-28-59f332f27930>:3: FutureWarning: \n",
            "\n",
            "The `ci` parameter is deprecated. Use `errorbar=('ci', False)` for the same effect.\n",
            "\n",
            "  sns.barplot(x=df['version'], y=df['retention_1'], ci=False)\n"
          ]
        },
        {
          "output_type": "execute_result",
          "data": {
            "text/plain": [
              "Text(0, 0.5, 'Retained (proportion)')"
            ]
          },
          "metadata": {},
          "execution_count": 28
        },
        {
          "output_type": "display_data",
          "data": {
            "text/plain": [
              "<Figure size 800x600 with 1 Axes>"
            ],
            "image/png": "[encoded data removed]"
          },
          "metadata": {}
        }
      ]
    },
    {
      "cell_type": "markdown",
      "source": [
        "Judging by the stats above, it does look like our two levels performed very similarly, with our level 30 version performing slightly better, approx. 44.8% vs. 44.2% retention rate. That's about 0.6% difference\n",
        "\n",
        "Looking past the difference, we can say that less than half of the players came back to the game after 1 day of installation. Its possible that they enjoyed the game when they first tried it out.\n",
        "\n",
        "\\\n",
        "Let's now take a look at the 7-day retention. It makes sense for us to look at this too because since we are testing if level 30 or level 40 is the right level to place the gate, we need to consider that players wouldn't even reach that level after a day of installation.\n"
      ],
      "metadata": {
        "id": "xl96DXqfIu2p"
      }
    },
    {
      "cell_type": "code",
      "source": [
        "player_retention = df.groupby('version')['retention_7']\n",
        "\n",
        "std_p = lambda x: np.std(x, ddof=0)              # Std. deviation of the proportion\n",
        "se_p = lambda x: stats.sem(x, ddof=0)            # Std. error of the proportion (std / sqrt(n))\n",
        "\n",
        "player_retention = player_retention.agg([np.mean, std_p, se_p])\n",
        "player_retention.columns = ['player_retention', 'std_deviation', 'std_error']\n",
        "\n",
        "\n",
        "player_retention.style.format('{:.3f}')"
      ],
      "metadata": {
        "colab": {
          "base_uri": "https://localhost:8080/",
          "height": 143
        },
        "id": "ehKUYGOtIOA0",
        "outputId": "7d29162c-3e38-4083-a621-b292f4de40b3"
      },
      "execution_count": 29,
      "outputs": [
        {
          "output_type": "execute_result",
          "data": {
            "text/plain": [
              "<pandas.io.formats.style.Styler at 0x7afb0f491330>"
            ],
            "text/html": [
              "<style type=\"text/css\">\n",
              "</style>\n",
              "<table id=\"T_a6e93\" class=\"dataframe\">\n",
              "  <thead>\n",
              "    <tr>\n",
              "      <th class=\"blank level0\" >&nbsp;</th>\n",
              "      <th id=\"T_a6e93_level0_col0\" class=\"col_heading level0 col0\" >player_retention</th>\n",
              "      <th id=\"T_a6e93_level0_col1\" class=\"col_heading level0 col1\" >std_deviation</th>\n",
              "      <th id=\"T_a6e93_level0_col2\" class=\"col_heading level0 col2\" >std_error</th>\n",
              "    </tr>\n",
              "    <tr>\n",
              "      <th class=\"index_name level0\" >version</th>\n",
              "      <th class=\"blank col0\" >&nbsp;</th>\n",
              "      <th class=\"blank col1\" >&nbsp;</th>\n",
              "      <th class=\"blank col2\" >&nbsp;</th>\n",
              "    </tr>\n",
              "  </thead>\n",
              "  <tbody>\n",
              "    <tr>\n",
              "      <th id=\"T_a6e93_level0_row0\" class=\"row_heading level0 row0\" >gate_30</th>\n",
              "      <td id=\"T_a6e93_row0_col0\" class=\"data row0 col0\" >0.190</td>\n",
              "      <td id=\"T_a6e93_row0_col1\" class=\"data row0 col1\" >0.392</td>\n",
              "      <td id=\"T_a6e93_row0_col2\" class=\"data row0 col2\" >0.002</td>\n",
              "    </tr>\n",
              "    <tr>\n",
              "      <th id=\"T_a6e93_level0_row1\" class=\"row_heading level0 row1\" >gate_40</th>\n",
              "      <td id=\"T_a6e93_row1_col0\" class=\"data row1 col0\" >0.182</td>\n",
              "      <td id=\"T_a6e93_row1_col1\" class=\"data row1 col1\" >0.386</td>\n",
              "      <td id=\"T_a6e93_row1_col2\" class=\"data row1 col2\" >0.002</td>\n",
              "    </tr>\n",
              "  </tbody>\n",
              "</table>\n"
            ]
          },
          "metadata": {},
          "execution_count": 29
        }
      ]
    },
    {
      "cell_type": "code",
      "source": [
        "plt.figure(figsize=(8,6))\n",
        "\n",
        "sns.barplot(x=df['version'], y=df['retention_7'], ci=False)\n",
        "\n",
        "plt.title('7-day Retention Rate by Version', pad=20)\n",
        "plt.xlabel('Version', labelpad=15)\n",
        "plt.ylabel('Retained (proportion)', labelpad=15)"
      ],
      "metadata": {
        "colab": {
          "base_uri": "https://localhost:8080/",
          "height": 703
        },
        "id": "bS6NcC1yKJZl",
        "outputId": "04f5f55a-6522-4450-ce5d-8f2ca35856c3"
      },
      "execution_count": 30,
      "outputs": [
        {
          "output_type": "stream",
          "name": "stderr",
          "text": [
            "<ipython-input-30-9b6e7890164e>:3: FutureWarning: \n",
            "\n",
            "The `ci` parameter is deprecated. Use `errorbar=('ci', False)` for the same effect.\n",
            "\n",
            "  sns.barplot(x=df['version'], y=df['retention_7'], ci=False)\n"
          ]
        },
        {
          "output_type": "execute_result",
          "data": {
            "text/plain": [
              "Text(0, 0.5, 'Retained (proportion)')"
            ]
          },
          "metadata": {},
          "execution_count": 30
        },
        {
          "output_type": "display_data",
          "data": {
            "text/plain": [
              "<Figure size 800x600 with 1 Axes>"
            ],
            "image/png": "[encoded data removed]"
          },
          "metadata": {}
        }
      ]
    },
    {
      "cell_type": "markdown",
      "source": [
        "With the 7-day retention, we have a 0.8% difference with level 30 performing better than level 40, similary to the 1-day retention.\n",
        "\n",
        "Another thing to notice here is that the retention rate for 7-day retention is lower than 1-day retention. This means that a significant amount of players stop playing after a week of installation.\n",
        "\n",
        "\\\n",
        "Since level 30 is higher for both retention periods, does that mean it's better than level 40? We need to perform hypothesis testing in order to see that this didn't happen by random chance\n",
        "\n",
        "\\\n",
        "## Hypothesis Testing\n",
        "\n",
        "Since we know that our groups are normally distributed and we have large sample size (n>30), we can make use of z-test. A t-test can also work here since there is normality. I actually think there's no significant impact on the results if either use z-test or t-test. However, it is also worth noting that we have outliers! This could potentially affect our testing, and so we'll also try to use a non-parametric test, called the Mann-Whitney U test. This is a good alternative when dealing with outliers, as they are less sensitive to extreme values.\n",
        "\n",
        "Let's first do the 1-day retention"
      ],
      "metadata": {
        "id": "ZiYyfSEAKI6o"
      }
    },
    {
      "cell_type": "code",
      "source": [
        "from statsmodels.stats.proportion import proportions_ztest, proportion_confint\n",
        "\n",
        "control_results = df[df['version'] == 'gate_30']['retention_1']\n",
        "treatment_results = df[df['version'] == 'gate_40']['retention_1']\n",
        "n_con = control_results.count()\n",
        "n_treat = treatment_results.count()\n",
        "successes = [control_results.sum(), treatment_results.sum()]\n",
        "nobs = [n_con, n_treat]\n",
        "\n",
        "z_stat, pval = proportions_ztest(successes, nobs=nobs)\n",
        "(lower_con, lower_treat), (upper_con, upper_treat) = proportion_confint(successes, nobs=nobs, alpha=0.05)\n",
        "\n",
        "print(f'z statistic: {z_stat:.2f}')\n",
        "print(f'p-value: {pval:.3f}')\n",
        "print(f'ci 95% for control group: [{lower_con:.3f}, {upper_con:.3f}]')\n",
        "print(f'ci 95% for treatment group: [{lower_treat:.3f}, {upper_treat:.3f}]')"
      ],
      "metadata": {
        "colab": {
          "base_uri": "https://localhost:8080/"
        },
        "id": "TUX2-k2EKRER",
        "outputId": "24838c37-3955-4936-81c2-87242d4350bd"
      },
      "execution_count": 31,
      "outputs": [
        {
          "output_type": "stream",
          "name": "stdout",
          "text": [
            "z statistic: 1.78\n",
            "p-value: 0.074\n",
            "ci 95% for control group: [0.444, 0.453]\n",
            "ci 95% for treatment group: [0.438, 0.447]\n"
          ]
        }
      ]
    },
    {
      "cell_type": "markdown",
      "source": [
        "Our p-value is greater than our alpha=0.05, so this means that we accept the null hypothesis and there is no statistical difference between level 30 and level 40 in terms of 1-day retention rate\n",
        "\n",
        "Let's now try 7-day retention"
      ],
      "metadata": {
        "id": "AQUFo90GOs2-"
      }
    },
    {
      "cell_type": "code",
      "source": [
        "control_results = df[df['version'] == 'gate_30']['retention_7']\n",
        "treatment_results = df[df['version'] == 'gate_40']['retention_7']\n",
        "n_con = control_results.count()\n",
        "n_treat = treatment_results.count()\n",
        "successes = [control_results.sum(), treatment_results.sum()]\n",
        "nobs = [n_con, n_treat]\n",
        "\n",
        "z_stat, pval = proportions_ztest(successes, nobs=nobs)\n",
        "(lower_con, lower_treat), (upper_con, upper_treat) = proportion_confint(successes, nobs=nobs, alpha=0.05)\n",
        "\n",
        "print(f'z statistic: {z_stat:.2f}')\n",
        "print(f'p-value: {pval:.3f}')\n",
        "print(f'ci 95% for control group: [{lower_con:.3f}, {upper_con:.3f}]')\n",
        "print(f'ci 95% for treatment group: [{lower_treat:.3f}, {upper_treat:.3f}]')"
      ],
      "metadata": {
        "colab": {
          "base_uri": "https://localhost:8080/"
        },
        "id": "wIP4AFMSOUnp",
        "outputId": "9403668c-971e-4c99-917a-8b48dd55ba0c"
      },
      "execution_count": 32,
      "outputs": [
        {
          "output_type": "stream",
          "name": "stdout",
          "text": [
            "z statistic: 3.16\n",
            "p-value: 0.002\n",
            "ci 95% for control group: [0.187, 0.194]\n",
            "ci 95% for treatment group: [0.178, 0.186]\n"
          ]
        }
      ]
    },
    {
      "cell_type": "markdown",
      "source": [
        "Interestingly, our p-value is lower than our alpha. This means that we reject the null hypothesis, meaning that there is a statistical difference between the two groups when it comes to a 7-day retention.\n",
        "\n",
        "Now what does this mean now? Since 1-day retention does show a greater average of retention rate for level 30, and the z-test proves that there is a statistical difference between level 30 and level 40 for 7-day retention, then we will stick with level 30 for now.\n",
        "\n",
        "\\\n",
        "Now let's try doing it with Mann-Whiteney U Test to see if there's any change in the results"
      ],
      "metadata": {
        "id": "6GEZmh3vRCb3"
      }
    },
    {
      "cell_type": "code",
      "source": [
        "from scipy.stats import mannwhitneyu"
      ],
      "metadata": {
        "id": "3L6DSqQbPUxP"
      },
      "execution_count": 33,
      "outputs": []
    },
    {
      "cell_type": "code",
      "source": [
        "control_results = df[df['version'] == 'gate_30']['retention_1']\n",
        "treatment_results = df[df['version'] == 'gate_40']['retention_1']\n",
        "test_stat, pvalue = mannwhitneyu(control_results,\n",
        "                                 treatment_results)\n",
        "print('Test Stat = %.4f, p-value = %.4f' % (test_stat, pvalue))"
      ],
      "metadata": {
        "colab": {
          "base_uri": "https://localhost:8080/"
        },
        "id": "Irx1kdmgQF4P",
        "outputId": "4bbdf7a8-32dd-42ab-f7ef-185b5a9bff3d"
      },
      "execution_count": 34,
      "outputs": [
        {
          "output_type": "stream",
          "name": "stdout",
          "text": [
            "Test Stat = 1022682813.0000, p-value = 0.0744\n"
          ]
        }
      ]
    },
    {
      "cell_type": "code",
      "source": [
        "control_results = df[df['version'] == 'gate_30']['retention_7']\n",
        "treatment_results = df[df['version'] == 'gate_40']['retention_7']\n",
        "test_stat, pvalue = mannwhitneyu(control_results,\n",
        "                                 treatment_results)\n",
        "print('Test Stat = %.4f, p-value = %.4f' % (test_stat, pvalue))"
      ],
      "metadata": {
        "colab": {
          "base_uri": "https://localhost:8080/"
        },
        "id": "oBGUiF29QVQA",
        "outputId": "770be79c-eeb3-4af4-91ad-b45d463be4aa"
      },
      "execution_count": 35,
      "outputs": [
        {
          "output_type": "stream",
          "name": "stdout",
          "text": [
            "Test Stat = 1025017239.0000, p-value = 0.0016\n"
          ]
        }
      ]
    },
    {
      "cell_type": "markdown",
      "source": [
        "As we can see, the Mann-Whiteney U Test resulted with almost similar p-values with the Z-test\n",
        "\n",
        "\n",
        "## Drawing Conclusions\n",
        "Here's what we know so far:\n",
        "\n",
        "1 - day retention:\n",
        "- Level 30 yields a higher retention rate than level 40\n",
        "- There is no statistical difference between the control and treatment group\n",
        "\n",
        "7 - day retention:\n",
        "- Level 30 yields a higher retention rate than level 40\n",
        "- There is a statistical difference between the control and treatment group\n",
        "\n",
        "In addition, if we look at the confidence intervals of our treatment groups for both 1-day and 7-day retention, it includes values that are relatively lower than the average retention rate.\n",
        "\n",
        "Since we accepted the null hypothesis for 1-day retention, and we rejected the null hypothesis for 7-day retention, they both suggest that the company will have a slightly better player retention rate if they stick with Level 30 as the placement of the gate.\n",
        "\n",
        "However, I do suggest that the company should focus more of their attention with the 7-day retention rather than 1-day retention, despite it having the higher retention rate. This is because the main idea behind this experiment is to see whether players are being retained depending on the gate placement, and by looking only at 1-day retention, it doesn't really give us that much insight since not a lot of players will even reach level 30 or level 40 after a day of installation.\n",
        "\n",
        "Another thing that we need to focus on, is to why the retention rate is higher if we put the gate at Level 30? It's possible that if a player truly enjoys a certain game for a shorter period of time, and they are forced to stop playing due to a gate, they develop a sense of wanting to play more, thus retaining them."
      ],
      "metadata": {
        "id": "PWpEx94cgLKf"
      }
    },
    {
      "cell_type": "code",
      "source": [],
      "metadata": {
        "id": "JeSQelsSfR01"
      },
      "execution_count": null,
      "outputs": []
    }
  ]
}